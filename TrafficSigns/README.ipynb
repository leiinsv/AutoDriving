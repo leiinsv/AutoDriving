{
 "cells": [
  {
   "cell_type": "markdown",
   "metadata": {},
   "source": [
    "# Project: Build a Traffic Sign Recognition Program"
   ]
  },
  {
   "cell_type": "markdown",
   "metadata": {},
   "source": [
    "Here is a link to my [project code](https://github.com/leiinsv/AutoDriving/blob/master/TrafficSigns/Traffic_Sign_Classifier.ipynb)"
   ]
  },
  {
   "cell_type": "markdown",
   "metadata": {},
   "source": [
    "## Data Set Summary & Exploration"
   ]
  },
  {
   "cell_type": "markdown",
   "metadata": {},
   "source": [
    "### 1. A basic summary of the dataset \n",
    "- Number of training examples = 34799\n",
    "- Number of validation examples = 4410\n",
    "- Number of testing examples = 12630\n",
    "- Image data shape = (32, 32, 3)\n",
    "- Number of classes = 43"
   ]
  },
  {
   "cell_type": "markdown",
   "metadata": {},
   "source": [
    "## Design and Test a Model Architecture"
   ]
  },
  {
   "cell_type": "markdown",
   "metadata": {},
   "source": [
    "### 1. Preprocessing \n",
    "\n",
    "| Method   |      Works or Not?      |  Code |\n",
    "|----------|:-------------:|------:|\n",
    "| convert to grayscale |  No.  In experiment, it did not improve accuracy| cell [4] |\n",
    "| normalize grayscale |    Yes.   |   cell [5] |\n",
    "| add gaussian noise | Yes. It helped when applying different noises per image per EPOCH |    cell [6] |\n",
    "| rotate | Yes. I used this to augment dataset by rotate 1/3 training images by random angle -15 ~ 15.|    cell [7] |"
   ]
  },
  {
   "cell_type": "markdown",
   "metadata": {},
   "source": [
    "### 2. Final model architecture\n",
    "\n",
    "| Layer   |      Description      |\n",
    "|----------|:-------------:|\n",
    "| Input |  32 x 32 x 3 RGB |\n",
    "| Convolution 5 x 5 | 1 x 1 Stride, VALID padding, output 28 x 28 x 6 |\n",
    "| Relu | |\n",
    "| Max pooling | 2 X 2 KSize, 2 X 2 Stride, VALID padding, output 14 X 14 X 6 |\n",
    "| Convolution 5 x 5 | 1 x 1 Stride, VALID padding, output 10 x 10 x 16 |\n",
    "| Relu | |\n",
    "| Max pooling | 2 X 2 KSize, 2 X 2 Stride, VALID padding, output 5 X 5 X 16 |\n",
    "| Flatten | input 5 x 5 x 16, output 400 |\n",
    "| Fully connected | input 400, output 120 |\n",
    "| Relu | |\n",
    "| Fully connected | input 120, output 84 |\n",
    "| Relu | |\n",
    "| Fully connected | input 84, output 43 |"
   ]
  },
  {
   "cell_type": "markdown",
   "metadata": {},
   "source": [
    "### 3. Model training\n",
    "- AdamOptimier\n",
    "- training_rate: 0.001\n",
    "- Epochs: 8\n",
    "- Batch size: 128"
   ]
  },
  {
   "cell_type": "markdown",
   "metadata": {},
   "source": [
    "### 4. Aproaches taken to find a solution\n",
    "\n",
    "Experimented on:\n",
    "\n",
    "- preprocessing: convert to gray scale, normalize, add guassian noises. \n",
    "- augmentation: apply rondom rotations to certain images.\n",
    "- different learning_rates, epochs, batch sizes. "
   ]
  },
  {
   "cell_type": "markdown",
   "metadata": {},
   "source": [
    "## Test a Model on New Images"
   ]
  },
  {
   "cell_type": "markdown",
   "metadata": {},
   "source": [
    "### 1. Choose 5 German traffic sign images\n",
    "\n",
    "Downloaded 5 images in classes: \n",
    "\n",
    "- Go straight or right\n",
    "- Speed limit (60km/h)\n",
    "- Roundabout mandatory\n",
    "- End of all speed and passing limits\n",
    "- Dangerous curve to the left"
   ]
  },
  {
   "cell_type": "markdown",
   "metadata": {},
   "source": [
    "### 2. Model predictions on these images"
   ]
  },
  {
   "cell_type": "markdown",
   "metadata": {},
   "source": [
    "| Class   |      Real Class ID      |  Predicted Class ID | Probabilities |\n",
    "|----------|:-------------:|------:| ------: |\n",
    "| Go straight or right | 36  | 36 | [  1.00000000e+00,   2.01485321e-11,   1.39574780e-13], [36, 18, 25]|\n",
    "| Speed limit (60km/h) | 3 | 3 | [  9.99999881e-01,   8.04887819e-08,   1.02094697e-08], [ 3,  2,  1]|\n",
    "| Roundabout mandatory | 40  | 40 | [  1.00000000e+00,   1.13917036e-08,   2.50927434e-09], [40,  7, 33] |\n",
    "| End of all speed and passing limits | 32 | 32 | [  9.98107672e-01,   1.85388443e-03,   3.81885911e-05],  [32,  6, 41]|\n",
    "| Dangerous curve to the left | 19 | 19 | [  4.71728265e-01,   4.24562126e-01,   1.02938421e-01], [19,  7,  4]|"
   ]
  },
  {
   "cell_type": "code",
   "execution_count": null,
   "metadata": {
    "collapsed": true
   },
   "outputs": [],
   "source": []
  }
 ],
 "metadata": {
  "kernelspec": {
   "display_name": "Python 3",
   "language": "python",
   "name": "python3"
  },
  "language_info": {
   "codemirror_mode": {
    "name": "ipython",
    "version": 3
   },
   "file_extension": ".py",
   "mimetype": "text/x-python",
   "name": "python",
   "nbconvert_exporter": "python",
   "pygments_lexer": "ipython3",
   "version": "3.5.2"
  }
 },
 "nbformat": 4,
 "nbformat_minor": 2
}
