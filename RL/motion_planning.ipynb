{
 "cells": [
  {
   "cell_type": "code",
   "execution_count": null,
   "metadata": {
    "collapsed": true
   },
   "outputs": [],
   "source": [
    "from TFBrain import TFBrain\n",
    "\n",
    "class MPEnv():\n",
    "    # Implement logics of reward in the environment of motion planning\n",
    "    def __init__(self):\n",
    "        self.state = None\n",
    "        self.num_actions = 5\n",
    "        self.state_dimensions = 250\n",
    "    \n",
    "    def reward(self, state, action):\n",
    "        pass\n",
    "    \n",
    "    def get_state(self):\n",
    "        return self.state\n",
    "    \n",
    "    def get_num_actions(self):\n",
    "        return self.num_actions\n",
    "    \n",
    "    def get_state_dims(self):\n",
    "        return self.state_dimensions\n",
    "\n",
    "    \n",
    "def play():\n",
    "    mpEnv = MPEnv()\n",
    "    brain_config = {\n",
    "        'num_actions': mpEnv.get_num_actions(),\n",
    "        'state_dimensions': mpEnv.get_state_dims(),\n",
    "        'temporal_window': 3,\n",
    "        'experience_size': 3000,\n",
    "        'start_learn_threshold': 500,\n",
    "        'gamma': 0.7,\n",
    "        'learning_steps_total': 10000,\n",
    "        'learning_steps_burnin': 1000,\n",
    "        'epsilon_min': 0.0,\n",
    "        'epsilon_test_time': 0.0,\n",
    "        'learning_rate': 0.001,\n",
    "        'momentum': 0.0,\n",
    "        'batch_size': 64,\n",
    "        'l2_decay': 0.01\n",
    "    }  \n",
    "    brain = TFBrainDQN(brain_config)  \n",
    "    state = mpEnv.get_state()\n",
    "    max_steps = 50000\n",
    "    i = 0\n",
    "    while i < max_steps:\n",
    "        action = brain.decide(state)\n",
    "        reward, new_state = mpEnv.reward(state, action)\n",
    "        brain.learn(state, action, reward, new_state)\n",
    "        state = new_state\n",
    "        i++\n",
    "    \n",
    "    \n",
    "def main():\n",
    "    play()\n",
    "    \n",
    "\n",
    "if __name__ == '__main__':\n",
    "    main()\n",
    "\n",
    "    \n"
   ]
  }
 ],
 "metadata": {
  "kernelspec": {
   "display_name": "Python 3",
   "language": "python",
   "name": "python3"
  },
  "language_info": {
   "codemirror_mode": {
    "name": "ipython",
    "version": 3
   },
   "file_extension": ".py",
   "mimetype": "text/x-python",
   "name": "python",
   "nbconvert_exporter": "python",
   "pygments_lexer": "ipython3",
   "version": "3.5.2"
  }
 },
 "nbformat": 4,
 "nbformat_minor": 2
}
